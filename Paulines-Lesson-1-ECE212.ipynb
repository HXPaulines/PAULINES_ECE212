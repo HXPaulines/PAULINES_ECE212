{
 "cells": [
  {
   "cell_type": "markdown",
   "metadata": {},
   "source": [
    "<html>\n",
    "      <head>\n",
    "          <title>HTML Document</title>\n",
    "      </head>\n",
    "       <body>\n",
    "          <h1 style=\"text-align:center\">Python 3 Programming</h1>\n",
    "          <h2 style=\"text-align:center\">Digital Notebook</h2>\n",
    "       </body>\n",
    "</html>"
   ]
  },
  {
   "cell_type": "markdown",
   "metadata": {},
   "source": [
    "![Programming](https://media.giphy.com/media/iGpHt2H22k1orjgT9b/giphy.gif)"
   ]
  },
  {
   "cell_type": "code",
   "execution_count": 5,
   "metadata": {},
   "outputs": [
    {
     "data": {
      "text/html": [
       "\n",
       "                <audio  controls=\"controls\" autoplay=\"autoplay\">\n",
       "                    <source src=\"data:None;base64,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\" type=\"None\" />\n",
       "                    Your browser does not support the audio element.\n",
       "                </audio>\n",
       "              "
      ],
      "text/plain": [
       "<IPython.lib.display.Audio object>"
      ]
     },
     "execution_count": 5,
     "metadata": {},
     "output_type": "execute_result"
    }
   ],
   "source": [
    "#Playing Soundtrack: Spirited Away Instrumental\n",
    "from IPython.display import Audio \n",
    "audio_link=r'C:\\Users\\Xymund\\Python\\BGMUSIC.mp3'\n",
    "Audio(data=audio_link, autoplay=True)"
   ]
  },
  {
   "cell_type": "markdown",
   "metadata": {},
   "source": [
    "## M1: Scientific Computing Basics\n",
    "\n",
    "### Lesson 1: Introduction to Python"
   ]
  },
  {
   "cell_type": "markdown",
   "metadata": {},
   "source": [
    "> The goal of this coursepack is to teach you to understand and create computer programs in Python. At the beginning of each chapter, we will outline for you the learning goals and objectives that should be accomplished once you have gone through the chapter.\n",
    "\n",
    "> Understanding computer programs requires algorithmic, mechanistic thinking. Programs specify mechanistic sequences of actions to perform; when executed, they transform input data into output data.\n",
    "\n",
    "> Writing computer programs requires not only mechanistic thinking but creative problem solving. Problem solving means the ability to formulate problems, think creatively about solutions, and express a solution clearly and accurately.\n",
    "\n",
    "#### Activity\n",
    "\n",
    "1. Why do you think understanding computer programs is relevant in our time today especially in the new normal?\n",
    "\n",
    "    > Computer programs enable to operate different machines. In connection to the new normal, distant learning or work at home is observed. WIth that, it is not just about computer programs but also for filling the gap within the society towards sustaining connections to everyone.\n",
    "\n",
    "2. If you were able to learn computer program, what program will you code? Why? \n",
    "\n",
    "    > It depends, for me, the utilization from lower-level to high-level language is sufficient for integrated programs like web servers for machine robots. Even though, python is a higher level language each programming language performs a significant role on the field of data science for example.\n",
    "\n",
    "3. What would be your pirmary motivation in learning programming?\n",
    "\n",
    "    > I am not a smart alect brat who brags how to code in speed but, my motivation would be my explorable consciousness to learn new things like an adventurous path in the wildlife.\n",
    "\n",
    "#### Glimpse about Python Programming\n",
    "![Python Data](https://d2h0cx97tjks2p.cloudfront.net/blogs/wp-content/uploads/sites/2/2019/02/Python-Infographic-for-beginners-to-learn-Python-Quickly.jpg)\n",
    "##### <center>© Source: Data-Flair Training</center>\n",
    "##### <center></center>"
   ]
  },
  {
   "cell_type": "markdown",
   "metadata": {},
   "source": [
    "#### I. Python Programming Language: Background\n",
    "\n",
    "* It is a high level language, unlike \"PHP, C++, JAVA, HTML, etc.\"\n",
    "* Process before running system, takes time (Disadvantage)\n",
    "* Less time to read, shorter (Advantage)\n",
    "* Portable, run on different computers with no/ few modifications (Advantage)\n",
    "\n",
    "##### <center> Two Kinds of Program Processors (High Level-Low Level) Language </center>\n",
    "\n",
    "##### <center>***Interpreter*** </center>\n",
    "<center>Reads a high-level program and executes it.</center>\n",
    "<center>Follows the program.</center>\n",
    "<center>Processes the program a little at a time, alternately reading lines and performing computations.</center>\n",
    "\n",
    "##### <center></center>\n",
    "![Interpreter](https://www.openbookproject.net/thinkcs/python/english2e/_images/interpret.png)\n",
    "##### <center>© Source: OpenBookproject.net</center>\n",
    "\n",
    "##### <center>***Compiler*** </center>\n",
    "<center>Reads the program and translates it completely before the program starts running.</center>\n",
    "<center>High-level program is called the source code.</center>\n",
    "<center>Translated program is called the object code or the executable.</center>\n",
    "<center>Once a program is compiled, execute easily.</center>\n",
    "\n",
    "##### <center></center>\n",
    "![Compiler](https://www.openbookproject.net/thinkcs/python/english2e/_images/compile.png)\n",
    "##### <center>© Source: OpenBookproject.net</center>\n",
    "\n",
    "<center><i> In addition, many modern language used both processes from byte (low-level) to virtual machine (high-level)</i></center>\n",
    "\n",
    "#### II. Deeper Explanation about Programs\n",
    "\n",
    "> It is a\tsequence of\tinstructions that specifies\thow\tto perform a computation. The computation might\tbe something as\tcomplex\tas rendering an\thtml page in a web browser or encoding a video and streaming it across the network. It can also be a symbolic computation, such as searching for and replacing text in a document or (strangely enough) compiling a program.\n",
    "\n",
    "##### III. Basic Appearances on every Programs\n",
    "##### a. input\n",
    "    * Get data from the keyboard, a file, or some other device.\n",
    "##### b. output\t\n",
    "    * Display data on the screen or send data to a file or other device.\n",
    "##### c. math and logic\t\n",
    "    * Perform basic mathematical operations;\n",
    "    * Fundamental and Logic Operations\n",
    "##### d. conditional execution\t\n",
    "    * Check for certain conditions\n",
    "    * Execute the appropriate sequence of statements.\n",
    "##### e. repetition\t\n",
    "    * Perform some action repeatedly, usually with some variation.\n",
    "\n",
    "#### IV. Formal and Natural Languages\n",
    "\n",
    "##### Natural languages\n",
    "> Languages that people speak, such as English, Spanish, and French. They were not designed by people (although people try to impose some order on them); they evolved naturally.\n",
    "\n",
    "##### Formal languages\n",
    "> Languages that are designed by people for specific applications. For example, the notation that mathematicians use is a formal language that is particularly good at denoting relationships among numbers and symbols. Chemists use a formal language to represent the chemical structure of molecules. And most importantly:\n",
    "\n",
    "##### Types of Syntax:\n",
    "* Tokens\n",
    "> Basic elements of the language, such as words, numbers, and chemical elements\n",
    "\n",
    "* Parsing\n",
    "> Structure of a statement— that is, the way the tokens are arranged\n",
    "\n",
    "##### Differences:\n",
    "\n",
    "* Ambiguity\n",
    "> Natural languages are full of ambiguity, which people deal with by using contextual clues and other information. \n",
    "> Formal languages are designed to be nearly or completely unambiguous, which means that any statement has exactly one meaning, regardless of context.\n",
    "\n",
    "* Redundancy\n",
    "> Resolve ambiguity and reduce misunderstandings on natural languages employ lots of redundancy. As a result, they are often verbose. Formal languages are less redundant and more concise.\n",
    "\n",
    "* Literalness\n",
    "> Natural languages are full of idiom and metaphor. If someone says, The other shoe fell, there is probably no shoe and nothing falling. Formal languages mean exactly what they say. Just like difference between poetry and prose.\n",
    "\n",
    "* Poetry\n",
    "> Words are used for their sounds as well as for their meaning, and the whole poem together creates an effect or emotional response. Ambiguity is not only common but often deliberate.\n",
    "\n",
    "* Prose\n",
    "> Literal meaning of words is more important, and the structure contributes more meaning. Prose is more amenable to analysis than poetry but still often ambiguous.\n",
    "\n",
    "* Programs\n",
    "> Meaning of a computer program is unambiguous and literal, and can be understood entirely by analysis of the tokens and structure."
   ]
  },
  {
   "cell_type": "markdown",
   "metadata": {},
   "source": [
    "#### Example: First program"
   ]
  },
  {
   "cell_type": "code",
   "execution_count": 63,
   "metadata": {},
   "outputs": [
    {
     "name": "stdout",
     "output_type": "stream",
     "text": [
      "Hello, World!\n"
     ]
    }
   ],
   "source": [
    "print(\"Hello, World!\") ## First program in all programming languages\n",
    "                       ## Uses an example of a Print function\n",
    "                       ## Quotation marks serves as the beginning and end of the value\n",
    "                       ## Comments are represented first by the \"#\" token that is completely\n",
    "                       ## ignored by the interpreter\""
   ]
  },
  {
   "cell_type": "markdown",
   "metadata": {},
   "source": [
    "![Hello, World!](https://media.giphy.com/media/OBnIvqqpKFbZam9Wmj/giphy.gif)\n",
    "\n",
    "#### Application\n",
    "\n",
    "1. Why do you think Python is the most applicable programming language for scientific computing?\n",
    "    > Throughout many decades, programs were made and published then upgraded till the present times. Just like C++, Java, Html, and other programming languages Python belongs to them too. Although, Python Programming language as a well known language in data science it enables to undergo manipulation of lower languages to synchronize functions and build an integrated system.\n",
    "\n",
    "2. if Python can build anything, where do you think Python is not applicable for? \n",
    "    >Susceptiple enough of Python Programming Language capabilities, although it still not a perfect program of higher succession rate. For instance, its processing power is much slower than the low level languages because it interprets the data and do not compile including its larger memory consumption. In addition, just like building a program for a game it will take too long to process multiple arrays of datas for python and it may probably crashed midway, and processing memory cost that much unless if there is sufficient funds to connect it to cloud.\n",
    "\n",
    "![Python Meme](https://media.giphy.com/media/UcK7JalnjCz0k/giphy.gif)"
   ]
  },
  {
   "cell_type": "markdown",
   "metadata": {},
   "source": [
    "#### Exercises\n",
    "\n",
    "##### Mailing Address (Solved, 9 Lines)\n",
    "\n",
    "1. Create a program that displays your name and complete mailing addresss. The address should be printed in the format that is normally used in the area where you live. You program does not need to ready any input from the user."
   ]
  },
  {
   "cell_type": "code",
   "execution_count": 18,
   "metadata": {},
   "outputs": [
    {
     "name": "stdout",
     "output_type": "stream",
     "text": [
      "Fullname:\\ter\\er\n",
      "Address:\n",
      "Barangay:her\n",
      "City/Municipality/Province:h\n",
      "Postal Code:er\n",
      "Country:h\n",
      "Tel.:er\n",
      "Contact no.:her\n",
      "E-mail:re\n"
     ]
    }
   ],
   "source": [
    "Fullname = input(\"Fullname:\")\n",
    "Address = input(\"Address:\")\n",
    "Barangay = input(\"Barangay:\")\n",
    "City = input(\"City/Municipality/Province:\")\n",
    "Postal = input(\"Postal Code:\")\n",
    "Country = input(\"Country:\")\n",
    "Tel = input(\"Tel.:\")\n",
    "Contact = input(\"Contact no.:\")\n",
    "Email = input(\"E-mail:\")"
   ]
  },
  {
   "cell_type": "markdown",
   "metadata": {},
   "source": [
    "#### Area of a Room (Solved, 13 lines)\n",
    "\n",
    "2. Write a program that asks the user to enter the width and lenth of a room. Once these values have been read, your program should compute and display the area of the room. The length and the width will be entered as floating-point numbers. Include units in your prompt and output message; either feet or meters, depending on which unit you are more comfortable working with."
   ]
  },
  {
   "cell_type": "code",
   "execution_count": 43,
   "metadata": {},
   "outputs": [
    {
     "name": "stdout",
     "output_type": "stream",
     "text": [
      "Units:\n",
      "1. Meters\n",
      "2. Feet\n",
      "\n"
     ]
    },
    {
     "ename": "KeyboardInterrupt",
     "evalue": "Interrupted by user",
     "output_type": "error",
     "traceback": [
      "\u001b[1;31m---------------------------------------------------------------------------\u001b[0m",
      "\u001b[1;31mKeyboardInterrupt\u001b[0m                         Traceback (most recent call last)",
      "\u001b[1;32m<ipython-input-43-323c6605e0e5>\u001b[0m in \u001b[0;36m<module>\u001b[1;34m\u001b[0m\n\u001b[0;32m     19\u001b[0m \u001b[1;32mwhile\u001b[0m \u001b[1;32mTrue\u001b[0m\u001b[1;33m:\u001b[0m\u001b[1;33m\u001b[0m\u001b[1;33m\u001b[0m\u001b[0m\n\u001b[0;32m     20\u001b[0m     \u001b[1;31m# Take input from the user\u001b[0m\u001b[1;33m\u001b[0m\u001b[1;33m\u001b[0m\u001b[1;33m\u001b[0m\u001b[0m\n\u001b[1;32m---> 21\u001b[1;33m     \u001b[0mchoice\u001b[0m \u001b[1;33m=\u001b[0m \u001b[0minput\u001b[0m\u001b[1;33m(\u001b[0m\u001b[1;34m\"Enter choice: \"\u001b[0m\u001b[1;33m)\u001b[0m\u001b[1;33m\u001b[0m\u001b[1;33m\u001b[0m\u001b[0m\n\u001b[0m\u001b[0;32m     22\u001b[0m \u001b[1;33m\u001b[0m\u001b[0m\n\u001b[0;32m     23\u001b[0m     \u001b[1;31m# Check if choice is one of the two options\u001b[0m\u001b[1;33m\u001b[0m\u001b[1;33m\u001b[0m\u001b[1;33m\u001b[0m\u001b[0m\n",
      "\u001b[1;32m~\\anaconda3\\lib\\site-packages\\ipykernel\\kernelbase.py\u001b[0m in \u001b[0;36mraw_input\u001b[1;34m(self, prompt)\u001b[0m\n\u001b[0;32m    858\u001b[0m                 \u001b[1;34m\"raw_input was called, but this frontend does not support input requests.\"\u001b[0m\u001b[1;33m\u001b[0m\u001b[1;33m\u001b[0m\u001b[0m\n\u001b[0;32m    859\u001b[0m             )\n\u001b[1;32m--> 860\u001b[1;33m         return self._input_request(str(prompt),\n\u001b[0m\u001b[0;32m    861\u001b[0m             \u001b[0mself\u001b[0m\u001b[1;33m.\u001b[0m\u001b[0m_parent_ident\u001b[0m\u001b[1;33m,\u001b[0m\u001b[1;33m\u001b[0m\u001b[1;33m\u001b[0m\u001b[0m\n\u001b[0;32m    862\u001b[0m             \u001b[0mself\u001b[0m\u001b[1;33m.\u001b[0m\u001b[0m_parent_header\u001b[0m\u001b[1;33m,\u001b[0m\u001b[1;33m\u001b[0m\u001b[1;33m\u001b[0m\u001b[0m\n",
      "\u001b[1;32m~\\anaconda3\\lib\\site-packages\\ipykernel\\kernelbase.py\u001b[0m in \u001b[0;36m_input_request\u001b[1;34m(self, prompt, ident, parent, password)\u001b[0m\n\u001b[0;32m    902\u001b[0m             \u001b[1;32mexcept\u001b[0m \u001b[0mKeyboardInterrupt\u001b[0m\u001b[1;33m:\u001b[0m\u001b[1;33m\u001b[0m\u001b[1;33m\u001b[0m\u001b[0m\n\u001b[0;32m    903\u001b[0m                 \u001b[1;31m# re-raise KeyboardInterrupt, to truncate traceback\u001b[0m\u001b[1;33m\u001b[0m\u001b[1;33m\u001b[0m\u001b[1;33m\u001b[0m\u001b[0m\n\u001b[1;32m--> 904\u001b[1;33m                 \u001b[1;32mraise\u001b[0m \u001b[0mKeyboardInterrupt\u001b[0m\u001b[1;33m(\u001b[0m\u001b[1;34m\"Interrupted by user\"\u001b[0m\u001b[1;33m)\u001b[0m \u001b[1;32mfrom\u001b[0m \u001b[1;32mNone\u001b[0m\u001b[1;33m\u001b[0m\u001b[1;33m\u001b[0m\u001b[0m\n\u001b[0m\u001b[0;32m    905\u001b[0m             \u001b[1;32mexcept\u001b[0m \u001b[0mException\u001b[0m \u001b[1;32mas\u001b[0m \u001b[0me\u001b[0m\u001b[1;33m:\u001b[0m\u001b[1;33m\u001b[0m\u001b[1;33m\u001b[0m\u001b[0m\n\u001b[0;32m    906\u001b[0m                 \u001b[0mself\u001b[0m\u001b[1;33m.\u001b[0m\u001b[0mlog\u001b[0m\u001b[1;33m.\u001b[0m\u001b[0mwarning\u001b[0m\u001b[1;33m(\u001b[0m\u001b[1;34m\"Invalid Message:\"\u001b[0m\u001b[1;33m,\u001b[0m \u001b[0mexc_info\u001b[0m\u001b[1;33m=\u001b[0m\u001b[1;32mTrue\u001b[0m\u001b[1;33m)\u001b[0m\u001b[1;33m\u001b[0m\u001b[1;33m\u001b[0m\u001b[0m\n",
      "\u001b[1;31mKeyboardInterrupt\u001b[0m: Interrupted by user"
     ]
    }
   ],
   "source": [
    "class Rectangle():\n",
    "    def __init__(R, l, w):\n",
    "        R.length = l\n",
    "        R.width  = w\n",
    "    def rectangle_area (R):\n",
    "        return R.length*R.width\n",
    "        \n",
    "class Unit():\n",
    "    def meters(m):\n",
    "        m = meters\n",
    "    def feet (ft):\n",
    "        ft = feet\n",
    "\n",
    "print(\"Units:\")\n",
    "print(\"1. Meters\")\n",
    "print(\"2. Feet\")\n",
    "print(\"\")\n",
    "\n",
    "while True:\n",
    "    # Take input from the user\n",
    "    choice = input(\"Enter choice: \")\n",
    "    \n",
    "    # Check if choice is one of the two options\n",
    "    \n",
    "    if choice in ('1', '2'):\n",
    "            m = str(\"sq.m.\")\n",
    "            ft = str(\"sq.ft.\")\n",
    "   \n",
    "\n",
    "            if choice == '1':\n",
    "                    l = float(input(\"Lenght in meters:\"))\n",
    "                    w = float(input(\"Width in meters:\"))\n",
    "                    A = Rectangle(l, w)\n",
    "                    \n",
    "                    print(\"\")\n",
    "                    print(\"The Area of the rectangle is\",A.rectangle_area(), m )\n",
    "\n",
    "            elif choice == '2':\n",
    "                    l = float(input(\"Lenght in feet:\"))\n",
    "                    w = float(input(\"Width in feet:\"))\n",
    "                    A = Rectangle(l, w)\n",
    "                    \n",
    "                    print(\"\")\n",
    "                    print(\"The Area of the rectangle is\",A.rectangle_area(), ft )\n",
    "            break\n",
    "else:\n",
    "     print(\"Invalid Input\")"
   ]
  },
  {
   "cell_type": "markdown",
   "metadata": {},
   "source": [
    "#### Arithmetic (Solved, 22 Lines)\n",
    "\n",
    "    3. Create a program that reads two integers, a and b, from the user. Your program should compute and display:\n",
    "\n",
    "            The sum of a and b\n",
    "            The difference when b is subratected from a\n",
    "            The product of a and b\n",
    "            The quotient when a is divided by b\n",
    "            The remainder when a is divided by b\n",
    "            The result of log10 a\n",
    "            The result of ab"
   ]
  },
  {
   "cell_type": "code",
   "execution_count": 64,
   "metadata": {},
   "outputs": [
    {
     "name": "stdout",
     "output_type": "stream",
     "text": [
      "Operations\n",
      "1. SUM\n",
      "2. DIFFERENCE\n",
      "3. PRODUCT\n",
      "4. QUOTIENT\n",
      "5. REMAINDER\n",
      "6. LOG BASE 10\n",
      "7. LOG ab\n",
      "\n"
     ]
    },
    {
     "ename": "KeyboardInterrupt",
     "evalue": "Interrupted by user",
     "output_type": "error",
     "traceback": [
      "\u001b[1;31m---------------------------------------------------------------------------\u001b[0m",
      "\u001b[1;31mKeyboardInterrupt\u001b[0m                         Traceback (most recent call last)",
      "\u001b[1;32m<ipython-input-64-b1753c8486f2>\u001b[0m in \u001b[0;36m<module>\u001b[1;34m\u001b[0m\n\u001b[0;32m     34\u001b[0m \u001b[1;32mwhile\u001b[0m \u001b[1;32mTrue\u001b[0m\u001b[1;33m:\u001b[0m\u001b[1;33m\u001b[0m\u001b[1;33m\u001b[0m\u001b[0m\n\u001b[0;32m     35\u001b[0m     \u001b[1;31m# Take input from the user\u001b[0m\u001b[1;33m\u001b[0m\u001b[1;33m\u001b[0m\u001b[1;33m\u001b[0m\u001b[0m\n\u001b[1;32m---> 36\u001b[1;33m     \u001b[0mchoice\u001b[0m \u001b[1;33m=\u001b[0m \u001b[0minput\u001b[0m\u001b[1;33m(\u001b[0m\u001b[1;34m\"Enter choice: \"\u001b[0m\u001b[1;33m)\u001b[0m\u001b[1;33m\u001b[0m\u001b[1;33m\u001b[0m\u001b[0m\n\u001b[0m\u001b[0;32m     37\u001b[0m \u001b[1;33m\u001b[0m\u001b[0m\n\u001b[0;32m     38\u001b[0m     \u001b[1;31m# Check if choice is one of the seven options\u001b[0m\u001b[1;33m\u001b[0m\u001b[1;33m\u001b[0m\u001b[1;33m\u001b[0m\u001b[0m\n",
      "\u001b[1;32m~\\anaconda3\\lib\\site-packages\\ipykernel\\kernelbase.py\u001b[0m in \u001b[0;36mraw_input\u001b[1;34m(self, prompt)\u001b[0m\n\u001b[0;32m    858\u001b[0m                 \u001b[1;34m\"raw_input was called, but this frontend does not support input requests.\"\u001b[0m\u001b[1;33m\u001b[0m\u001b[1;33m\u001b[0m\u001b[0m\n\u001b[0;32m    859\u001b[0m             )\n\u001b[1;32m--> 860\u001b[1;33m         return self._input_request(str(prompt),\n\u001b[0m\u001b[0;32m    861\u001b[0m             \u001b[0mself\u001b[0m\u001b[1;33m.\u001b[0m\u001b[0m_parent_ident\u001b[0m\u001b[1;33m,\u001b[0m\u001b[1;33m\u001b[0m\u001b[1;33m\u001b[0m\u001b[0m\n\u001b[0;32m    862\u001b[0m             \u001b[0mself\u001b[0m\u001b[1;33m.\u001b[0m\u001b[0m_parent_header\u001b[0m\u001b[1;33m,\u001b[0m\u001b[1;33m\u001b[0m\u001b[1;33m\u001b[0m\u001b[0m\n",
      "\u001b[1;32m~\\anaconda3\\lib\\site-packages\\ipykernel\\kernelbase.py\u001b[0m in \u001b[0;36m_input_request\u001b[1;34m(self, prompt, ident, parent, password)\u001b[0m\n\u001b[0;32m    902\u001b[0m             \u001b[1;32mexcept\u001b[0m \u001b[0mKeyboardInterrupt\u001b[0m\u001b[1;33m:\u001b[0m\u001b[1;33m\u001b[0m\u001b[1;33m\u001b[0m\u001b[0m\n\u001b[0;32m    903\u001b[0m                 \u001b[1;31m# re-raise KeyboardInterrupt, to truncate traceback\u001b[0m\u001b[1;33m\u001b[0m\u001b[1;33m\u001b[0m\u001b[1;33m\u001b[0m\u001b[0m\n\u001b[1;32m--> 904\u001b[1;33m                 \u001b[1;32mraise\u001b[0m \u001b[0mKeyboardInterrupt\u001b[0m\u001b[1;33m(\u001b[0m\u001b[1;34m\"Interrupted by user\"\u001b[0m\u001b[1;33m)\u001b[0m \u001b[1;32mfrom\u001b[0m \u001b[1;32mNone\u001b[0m\u001b[1;33m\u001b[0m\u001b[1;33m\u001b[0m\u001b[0m\n\u001b[0m\u001b[0;32m    905\u001b[0m             \u001b[1;32mexcept\u001b[0m \u001b[0mException\u001b[0m \u001b[1;32mas\u001b[0m \u001b[0me\u001b[0m\u001b[1;33m:\u001b[0m\u001b[1;33m\u001b[0m\u001b[1;33m\u001b[0m\u001b[0m\n\u001b[0;32m    906\u001b[0m                 \u001b[0mself\u001b[0m\u001b[1;33m.\u001b[0m\u001b[0mlog\u001b[0m\u001b[1;33m.\u001b[0m\u001b[0mwarning\u001b[0m\u001b[1;33m(\u001b[0m\u001b[1;34m\"Invalid Message:\"\u001b[0m\u001b[1;33m,\u001b[0m \u001b[0mexc_info\u001b[0m\u001b[1;33m=\u001b[0m\u001b[1;32mTrue\u001b[0m\u001b[1;33m)\u001b[0m\u001b[1;33m\u001b[0m\u001b[1;33m\u001b[0m\u001b[0m\n",
      "\u001b[1;31mKeyboardInterrupt\u001b[0m: Interrupted by user"
     ]
    }
   ],
   "source": [
    "import math\n",
    "\n",
    "def add(a,b):       # function for addition\n",
    "    sum=a+b;\n",
    "    return sum;\n",
    "\n",
    "def subtract(a,b):  # function for subtraction\n",
    "    min=a-b;\n",
    "    return min;\n",
    "\n",
    "def multiply(a,b):  # function for multiplication\n",
    "    product=a*b;\n",
    "    return product;\n",
    "\n",
    "def divide(a,b):    # function for divisiom\n",
    "    quotient=a/b;\n",
    "    return quotient;\n",
    "\n",
    "def remainder(a,b): # function for remainder\n",
    "    rader=a%b;\n",
    "    return rader;\n",
    "    \n",
    "print(\"Operations\")\n",
    "print(\"1. SUM\")\n",
    "print(\"2. DIFFERENCE\")\n",
    "print(\"3. PRODUCT\")\n",
    "print(\"4. QUOTIENT\")\n",
    "print(\"5. REMAINDER\")\n",
    "print(\"6. LOG BASE 10\")\n",
    "print(\"7. LOG ab\")\n",
    "print(\"\")\n",
    "\n",
    "\n",
    "while True:\n",
    "    # Take input from the user\n",
    "    choice = input(\"Enter choice: \")\n",
    "    \n",
    "    # Check if choice is one of the seven options\n",
    "    \n",
    "    if choice in ('1','2','3','4','5','6','7'):\n",
    "\n",
    "   \n",
    "            if choice == '1':\n",
    "                print(\"\")\n",
    "                print(\"Enter two integers to get the sum.\")\n",
    "                a = float(input(\"Enter an integer:\"))\n",
    "                b = float(input(\"Enter another integer:\"))\n",
    "                print(\"\")\n",
    "                print(\"The sum of two integers is \",add(a,b),\".\")\n",
    "\n",
    "            elif choice == '2':\n",
    "                print(\"\")\n",
    "                print(\"Enter two integers to get the difference.\")\n",
    "                \n",
    "                a = float(input(\"Enter the minuend:\"))\n",
    "                b = float(input(\"Enter the subtrahend:\"))\n",
    "                \n",
    "                print(\"\")\n",
    "                print(\"The difference is\",subtract(a,b),\".\")\n",
    "            \n",
    "            elif choice == '3':\n",
    "                print(\"\")\n",
    "                print(\"Enter two integers to get the difference.\")\n",
    "                \n",
    "                a = float(input(\"Enter the multiplicand:\"))\n",
    "                b = float(input(\"Enter the multiplier:\"))\n",
    "                \n",
    "                print(\"\")\n",
    "                print(\"The product is\",multiply(a,b),\".\")\n",
    "                    \n",
    "            elif choice == '4':\n",
    "                print(\"\")\n",
    "                print(\"Enter two integers to get the difference.\")\n",
    "                \n",
    "                a = float(input(\"Enter the dividend:\"))\n",
    "                b = float(input(\"Enter the divisor:\"))\n",
    "                \n",
    "                print(\"\")\n",
    "                print(\"The quotient is\", divide(a,b),\".\")\n",
    "            \n",
    "            elif choice == '5':\n",
    "                print(\"\")\n",
    "                print(\"Enter two integers to get the remainder.\")\n",
    "                \n",
    "                a = float(input(\"Enter one integer:\"))\n",
    "                b = float(input(\"Enter another integer:\"))\n",
    "                \n",
    "                print(\"\")\n",
    "                print(\"The remainder is\", remainder(a,b),\".\")\n",
    "            \n",
    "            elif choice == '6':\n",
    "                print(\"\")\n",
    "                print(\"Enter an integer to get the logarithm of base 10.\")\n",
    "                \n",
    "                log = math.log10(a)\n",
    "                a = float(input(\"Enter the logarithm: \"))\n",
    "                \n",
    "                print(\"\")\n",
    "                print(\"Log of\", a, \"is %.2f\" %log,\".\")\n",
    "            \n",
    "            elif choice == '7':\n",
    "                print(\"\")\n",
    "                print(\"Enter two integers to get the logarithm of ab.\")\n",
    "                \n",
    "                a = float(input(\"Enter log a:\"))\n",
    "                b = float(input(\"Enter log b:\"))\n",
    "\n",
    "                log = math.log10(a * b)\n",
    "\n",
    "                print(\"Log(ab) is %.2f\" %log,\".\")\n",
    "                print(\"\")\n",
    "                print(\"It is the same with\",\"( log\",a,\"+ log\",b,\")\")\n",
    "                print(\"which is equivalent to %.2f\" %log,\".\")\n",
    "            break\n",
    "else:\n",
    "     print(\"Invalid Input\")"
   ]
  },
  {
   "cell_type": "markdown",
   "metadata": {},
   "source": [
    "#### Area and Volume (15 Lines)\n",
    "\n",
    "4. Write a program that begins by reading a radius, r, from the user. The program will continue by computing and displaying the area of a circle with radius r and the volume of a sphere with radius r. Use the pi constant in the math module in your calculations."
   ]
  },
  {
   "cell_type": "code",
   "execution_count": 51,
   "metadata": {},
   "outputs": [
    {
     "name": "stdout",
     "output_type": "stream",
     "text": [
      "Circle:\n",
      "1. Find the Area\n",
      "2. Find the Volume\n",
      "\n",
      "Enter choice: 2\n",
      "Enter the radius:4\n",
      "\n",
      "The volume of a sphere is 268.08 .\n"
     ]
    }
   ],
   "source": [
    "#Area Volume of a circle using input r\n",
    "\n",
    "import math\n",
    "\n",
    "print(\"Circle:\")\n",
    "print(\"1. Find the Area\")\n",
    "print(\"2. Find the Volume\")\n",
    "print(\"\")\n",
    "\n",
    "\n",
    "while True:\n",
    "    # Take input from the user\n",
    "    choice = input(\"Enter choice: \")\n",
    "    \n",
    "    # Check if choice is one of the two options\n",
    "    \n",
    "    if choice in ('1','2'):\n",
    "    \n",
    "        if choice == '1':\n",
    "                r = float(input(\"Enter the radius:\"))\n",
    "                A = math.pi * pow(r,2)\n",
    "                \n",
    "                print(\"\")\n",
    "                print(\"The area of a circle is %.2f\" %A,\".\")\n",
    "\n",
    "        elif choice == '2':\n",
    "                r = float(input(\"Enter the radius:\"))\n",
    "                V = (4/3) * math.pi * pow(r,3)\n",
    "                \n",
    "                print(\"\") \n",
    "                print(\"The volume of a sphere is %.2f\" %V,\".\")\n",
    "        break\n",
    "else:\n",
    "     print(\"Invalid Input\")"
   ]
  },
  {
   "cell_type": "markdown",
   "metadata": {},
   "source": [
    "![Basic](https://media.giphy.com/media/l3q2Mj4wDAT820hZm/giphy.gif)"
   ]
  },
  {
   "cell_type": "code",
   "execution_count": null,
   "metadata": {},
   "outputs": [],
   "source": []
  }
 ],
 "metadata": {
  "kernelspec": {
   "display_name": "Python 3",
   "language": "python",
   "name": "python3"
  },
  "language_info": {
   "codemirror_mode": {
    "name": "ipython",
    "version": 3
   },
   "file_extension": ".py",
   "mimetype": "text/x-python",
   "name": "python",
   "nbconvert_exporter": "python",
   "pygments_lexer": "ipython3",
   "version": "3.8.3"
  }
 },
 "nbformat": 4,
 "nbformat_minor": 4
}
